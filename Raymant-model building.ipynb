{
 "cells": [
  {
   "cell_type": "code",
   "execution_count": 55,
   "metadata": {},
   "outputs": [],
   "source": [
    "import numpy as np\n",
    "import pandas as pd\n",
    "import matplotlib.pyplot as plt\n",
    "import seaborn as sns\n",
    "import scipy.stats as st\n",
    "import statsmodels.api as sm\n",
    "from sklearn.linear_model import LogisticRegression\n",
    "from sklearn.feature_selection import RFE\n",
    "from sklearn.metrics import r2_score,mean_squared_error,accuracy_score\n",
    "from sklearn.model_selection import train_test_split,GridSearchCV\n",
    "from sklearn.metrics import roc_curve, auc,classification_report\n",
    "\n",
    "# filtering warnings\n",
    "import warnings\n",
    "warnings.filterwarnings('ignore')"
   ]
  },
  {
   "cell_type": "code",
   "execution_count": 2,
   "metadata": {},
   "outputs": [
    {
     "data": {
      "text/html": [
       "<div>\n",
       "<style scoped>\n",
       "    .dataframe tbody tr th:only-of-type {\n",
       "        vertical-align: middle;\n",
       "    }\n",
       "\n",
       "    .dataframe tbody tr th {\n",
       "        vertical-align: top;\n",
       "    }\n",
       "\n",
       "    .dataframe thead th {\n",
       "        text-align: right;\n",
       "    }\n",
       "</style>\n",
       "<table border=\"1\" class=\"dataframe\">\n",
       "  <thead>\n",
       "    <tr style=\"text-align: right;\">\n",
       "      <th></th>\n",
       "      <th>Unnamed: 0</th>\n",
       "      <th>A</th>\n",
       "      <th>B</th>\n",
       "      <th>C</th>\n",
       "      <th>D</th>\n",
       "      <th>E</th>\n",
       "      <th>F</th>\n",
       "      <th>G</th>\n",
       "      <th>H</th>\n",
       "      <th>I</th>\n",
       "      <th>...</th>\n",
       "      <th>Y6</th>\n",
       "      <th>Y7</th>\n",
       "      <th>Y8</th>\n",
       "      <th>Y9</th>\n",
       "      <th>Z1</th>\n",
       "      <th>Z2</th>\n",
       "      <th>Z4</th>\n",
       "      <th>Z5</th>\n",
       "      <th>Z6</th>\n",
       "      <th>Class</th>\n",
       "    </tr>\n",
       "  </thead>\n",
       "  <tbody>\n",
       "    <tr>\n",
       "      <th>0</th>\n",
       "      <td>0</td>\n",
       "      <td>6</td>\n",
       "      <td>860.62</td>\n",
       "      <td>809.73</td>\n",
       "      <td>919.69</td>\n",
       "      <td>30.87</td>\n",
       "      <td>69.81</td>\n",
       "      <td>65.24</td>\n",
       "      <td>74.10</td>\n",
       "      <td>2.51</td>\n",
       "      <td>...</td>\n",
       "      <td>0.002757</td>\n",
       "      <td>-0.003582</td>\n",
       "      <td>0.000125</td>\n",
       "      <td>0.001961</td>\n",
       "      <td>-3.290000e-08</td>\n",
       "      <td>0.000346</td>\n",
       "      <td>0.000956</td>\n",
       "      <td>9.150000e-07</td>\n",
       "      <td>1.190000e-07</td>\n",
       "      <td>A</td>\n",
       "    </tr>\n",
       "    <tr>\n",
       "      <th>1</th>\n",
       "      <td>1</td>\n",
       "      <td>7</td>\n",
       "      <td>871.58</td>\n",
       "      <td>789.74</td>\n",
       "      <td>929.69</td>\n",
       "      <td>32.82</td>\n",
       "      <td>68.94</td>\n",
       "      <td>64.54</td>\n",
       "      <td>75.97</td>\n",
       "      <td>2.65</td>\n",
       "      <td>...</td>\n",
       "      <td>0.002757</td>\n",
       "      <td>-0.002944</td>\n",
       "      <td>0.000131</td>\n",
       "      <td>0.001932</td>\n",
       "      <td>-3.290000e-08</td>\n",
       "      <td>0.000358</td>\n",
       "      <td>0.000888</td>\n",
       "      <td>7.880000e-07</td>\n",
       "      <td>1.280000e-07</td>\n",
       "      <td>A</td>\n",
       "    </tr>\n",
       "    <tr>\n",
       "      <th>2</th>\n",
       "      <td>2</td>\n",
       "      <td>6</td>\n",
       "      <td>854.87</td>\n",
       "      <td>789.74</td>\n",
       "      <td>929.69</td>\n",
       "      <td>32.38</td>\n",
       "      <td>70.29</td>\n",
       "      <td>64.54</td>\n",
       "      <td>75.97</td>\n",
       "      <td>2.66</td>\n",
       "      <td>...</td>\n",
       "      <td>0.003168</td>\n",
       "      <td>-0.002944</td>\n",
       "      <td>0.000125</td>\n",
       "      <td>0.001628</td>\n",
       "      <td>-3.290000e-08</td>\n",
       "      <td>0.000339</td>\n",
       "      <td>0.000875</td>\n",
       "      <td>7.660000e-07</td>\n",
       "      <td>1.150000e-07</td>\n",
       "      <td>A</td>\n",
       "    </tr>\n",
       "    <tr>\n",
       "      <th>3</th>\n",
       "      <td>3</td>\n",
       "      <td>7</td>\n",
       "      <td>823.73</td>\n",
       "      <td>759.75</td>\n",
       "      <td>879.71</td>\n",
       "      <td>29.19</td>\n",
       "      <td>72.93</td>\n",
       "      <td>68.20</td>\n",
       "      <td>78.97</td>\n",
       "      <td>2.58</td>\n",
       "      <td>...</td>\n",
       "      <td>0.003168</td>\n",
       "      <td>-0.002490</td>\n",
       "      <td>0.000116</td>\n",
       "      <td>0.001572</td>\n",
       "      <td>-3.290000e-08</td>\n",
       "      <td>0.000308</td>\n",
       "      <td>0.000856</td>\n",
       "      <td>7.330000e-07</td>\n",
       "      <td>9.480000e-08</td>\n",
       "      <td>A</td>\n",
       "    </tr>\n",
       "    <tr>\n",
       "      <th>4</th>\n",
       "      <td>4</td>\n",
       "      <td>6</td>\n",
       "      <td>823.44</td>\n",
       "      <td>759.75</td>\n",
       "      <td>879.71</td>\n",
       "      <td>28.98</td>\n",
       "      <td>72.96</td>\n",
       "      <td>68.20</td>\n",
       "      <td>78.97</td>\n",
       "      <td>2.56</td>\n",
       "      <td>...</td>\n",
       "      <td>0.003091</td>\n",
       "      <td>-0.002601</td>\n",
       "      <td>0.000126</td>\n",
       "      <td>0.001596</td>\n",
       "      <td>-3.290000e-08</td>\n",
       "      <td>0.000318</td>\n",
       "      <td>0.000913</td>\n",
       "      <td>8.330000e-07</td>\n",
       "      <td>1.010000e-07</td>\n",
       "      <td>A</td>\n",
       "    </tr>\n",
       "  </tbody>\n",
       "</table>\n",
       "<p>5 rows × 43 columns</p>\n",
       "</div>"
      ],
      "text/plain": [
       "   Unnamed: 0  A       B       C       D      E      F      G      H     I  \\\n",
       "0           0  6  860.62  809.73  919.69  30.87  69.81  65.24  74.10  2.51   \n",
       "1           1  7  871.58  789.74  929.69  32.82  68.94  64.54  75.97  2.65   \n",
       "2           2  6  854.87  789.74  929.69  32.38  70.29  64.54  75.97  2.66   \n",
       "3           3  7  823.73  759.75  879.71  29.19  72.93  68.20  78.97  2.58   \n",
       "4           4  6  823.44  759.75  879.71  28.98  72.96  68.20  78.97  2.56   \n",
       "\n",
       "   ...        Y6        Y7        Y8        Y9            Z1        Z2  \\\n",
       "0  ...  0.002757 -0.003582  0.000125  0.001961 -3.290000e-08  0.000346   \n",
       "1  ...  0.002757 -0.002944  0.000131  0.001932 -3.290000e-08  0.000358   \n",
       "2  ...  0.003168 -0.002944  0.000125  0.001628 -3.290000e-08  0.000339   \n",
       "3  ...  0.003168 -0.002490  0.000116  0.001572 -3.290000e-08  0.000308   \n",
       "4  ...  0.003091 -0.002601  0.000126  0.001596 -3.290000e-08  0.000318   \n",
       "\n",
       "         Z4            Z5            Z6  Class  \n",
       "0  0.000956  9.150000e-07  1.190000e-07      A  \n",
       "1  0.000888  7.880000e-07  1.280000e-07      A  \n",
       "2  0.000875  7.660000e-07  1.150000e-07      A  \n",
       "3  0.000856  7.330000e-07  9.480000e-08      A  \n",
       "4  0.000913  8.330000e-07  1.010000e-07      A  \n",
       "\n",
       "[5 rows x 43 columns]"
      ]
     },
     "execution_count": 2,
     "metadata": {},
     "output_type": "execute_result"
    }
   ],
   "source": [
    "df=pd.read_csv(\"C:/Users/INDIAN/Downloads/Test_Data.csv\")\n",
    "df.head()"
   ]
  },
  {
   "cell_type": "code",
   "execution_count": 3,
   "metadata": {},
   "outputs": [],
   "source": [
    "df=df.drop(\"Unnamed: 0\",axis=1)"
   ]
  },
  {
   "cell_type": "markdown",
   "metadata": {},
   "source": [
    "there is a unnamed feature in dataset which is a duplicate index so,we can drop it."
   ]
  },
  {
   "cell_type": "code",
   "execution_count": 4,
   "metadata": {},
   "outputs": [],
   "source": [
    "# Mapping classes (numberic) column into categorical:\n",
    "dow = {\"A\":0, \"B\":1, \"C\":2, \"D\":3 , \"E\":4, \"F\":5}\n",
    "\n",
    "df[\"Class\"] = df[\"Class\"].map(dow)"
   ]
  },
  {
   "cell_type": "code",
   "execution_count": 5,
   "metadata": {},
   "outputs": [],
   "source": [
    "#Defining dependent and independent\n",
    "\n",
    "x=df.drop('Class',axis=1)\n",
    "y=df['Class']"
   ]
  },
  {
   "cell_type": "markdown",
   "metadata": {},
   "source": [
    "### Feature selection technique\n",
    "\n",
    "#### 1) using correlation"
   ]
  },
  {
   "cell_type": "code",
   "execution_count": 6,
   "metadata": {},
   "outputs": [
    {
     "data": {
      "text/plain": [
       "Class    1.0\n",
       "Name: Class, dtype: float64"
      ]
     },
     "execution_count": 6,
     "metadata": {},
     "output_type": "execute_result"
    }
   ],
   "source": [
    "corr=df.corr()\n",
    "cor_target=abs(corr['Class'])\n",
    "imp_features=cor_target[cor_target>=0.5]\n",
    "imp_features"
   ]
  },
  {
   "cell_type": "markdown",
   "metadata": {},
   "source": [
    "#### no feature has atleast 50% correlation with the target variable"
   ]
  },
  {
   "cell_type": "markdown",
   "metadata": {},
   "source": [
    "#### 2) recursive feature elimination (RFE)"
   ]
  },
  {
   "cell_type": "code",
   "execution_count": 7,
   "metadata": {},
   "outputs": [
    {
     "name": "stdout",
     "output_type": "stream",
     "text": [
      "Optimum number of features: 9\n",
      "Score with 9 features: 0.309361\n"
     ]
    }
   ],
   "source": [
    "#no of features\n",
    "nof_list=np.arange(1,10)            \n",
    "high_score=0\n",
    "#Variable to store the optimum features\n",
    "nof=0           \n",
    "score_list =[]\n",
    "for n in range(len(nof_list)):\n",
    "    X_train, X_test, y_train, y_test = train_test_split(x,y, test_size = 0.3, random_state = 0)\n",
    "    model = LogisticRegression()\n",
    "    rfe = RFE(model,nof_list[n])\n",
    "    X_train_rfe = rfe.fit_transform(X_train,y_train)\n",
    "    X_test_rfe = rfe.transform(X_test)\n",
    "    model.fit(X_train_rfe,y_train)\n",
    "    score = model.score(X_test_rfe,y_test)\n",
    "    score_list.append(score)\n",
    "    if(score>high_score):\n",
    "        high_score = score\n",
    "        nof = nof_list[n]\n",
    "print(\"Optimum number of features: %d\" %nof)\n",
    "print(\"Score with %d features: %f\" % (nof, high_score))"
   ]
  },
  {
   "cell_type": "code",
   "execution_count": 8,
   "metadata": {},
   "outputs": [
    {
     "name": "stdout",
     "output_type": "stream",
     "text": [
      "[False False False False False False False False False False False False\n",
      " False False  True  True False False False False False False False False\n",
      "  True  True  True False False False False False False  True False  True\n",
      " False False  True  True False]\n",
      "[ 7 25 28 26 19 13 18 17 11 10 14 21 24 20  1  1 27 31 30  8 16 22 23 15\n",
      "  1  1  1  3 32  6  5 29  2  1  9  1 33  4  1  1 12]\n"
     ]
    }
   ],
   "source": [
    "model = LogisticRegression()\n",
    "\n",
    "## initialize RFE\n",
    "rfe=RFE(model,9)\n",
    "rfe.fit(x,y)\n",
    "\n",
    "print(rfe.support_)\n",
    "print(rfe.ranking_)"
   ]
  },
  {
   "cell_type": "markdown",
   "metadata": {},
   "source": [
    "#### by RFE we can see it showing the highest score i.e,30% can be acheived by 9 features.In this case dimensions are reducing but the model is not learning accurately, so it is better to use dimentionality reduction technique-PCA and capture maximum data with minimum no.of features. "
   ]
  },
  {
   "cell_type": "code",
   "execution_count": 9,
   "metadata": {},
   "outputs": [
    {
     "name": "stdout",
     "output_type": "stream",
     "text": [
      "Requirement already satisfied: mlxtend in c:\\users\\indian\\anaconda3\\lib\\site-packages (0.17.0)\n",
      "Requirement already satisfied: joblib>=0.13.2 in c:\\users\\indian\\anaconda3\\lib\\site-packages (from mlxtend) (0.13.2)\n",
      "Requirement already satisfied: setuptools in c:\\users\\indian\\anaconda3\\lib\\site-packages (from mlxtend) (41.0.1)\n",
      "Requirement already satisfied: scikit-learn>=0.20.3 in c:\\users\\indian\\anaconda3\\lib\\site-packages (from mlxtend) (0.21.2)\n",
      "Requirement already satisfied: scipy>=1.2.1 in c:\\users\\indian\\anaconda3\\lib\\site-packages (from mlxtend) (1.2.1)\n",
      "Requirement already satisfied: numpy>=1.16.2 in c:\\users\\indian\\anaconda3\\lib\\site-packages (from mlxtend) (1.16.4)\n",
      "Requirement already satisfied: matplotlib>=3.0.0 in c:\\users\\indian\\anaconda3\\lib\\site-packages (from mlxtend) (3.1.0)\n",
      "Requirement already satisfied: pandas>=0.24.2 in c:\\users\\indian\\anaconda3\\lib\\site-packages (from mlxtend) (0.24.2)\n",
      "Requirement already satisfied: cycler>=0.10 in c:\\users\\indian\\anaconda3\\lib\\site-packages (from matplotlib>=3.0.0->mlxtend) (0.10.0)\n",
      "Requirement already satisfied: kiwisolver>=1.0.1 in c:\\users\\indian\\anaconda3\\lib\\site-packages (from matplotlib>=3.0.0->mlxtend) (1.1.0)\n",
      "Requirement already satisfied: pyparsing!=2.0.4,!=2.1.2,!=2.1.6,>=2.0.1 in c:\\users\\indian\\anaconda3\\lib\\site-packages (from matplotlib>=3.0.0->mlxtend) (2.4.0)\n",
      "Requirement already satisfied: python-dateutil>=2.1 in c:\\users\\indian\\anaconda3\\lib\\site-packages (from matplotlib>=3.0.0->mlxtend) (2.8.0)\n",
      "Requirement already satisfied: pytz>=2011k in c:\\users\\indian\\anaconda3\\lib\\site-packages (from pandas>=0.24.2->mlxtend) (2019.1)\n",
      "Requirement already satisfied: six in c:\\users\\indian\\anaconda3\\lib\\site-packages (from cycler>=0.10->matplotlib>=3.0.0->mlxtend) (1.12.0)\n",
      "Note: you may need to restart the kernel to use updated packages.\n"
     ]
    }
   ],
   "source": [
    "pip install mlxtend"
   ]
  },
  {
   "cell_type": "markdown",
   "metadata": {},
   "source": [
    "#### 3)Forward selection"
   ]
  },
  {
   "cell_type": "code",
   "execution_count": 10,
   "metadata": {},
   "outputs": [],
   "source": [
    "from mlxtend.feature_selection import SequentialFeatureSelector as sfs\n",
    "from mlxtend.plotting import plot_sequential_feature_selection as plot_sfs"
   ]
  },
  {
   "cell_type": "code",
   "execution_count": 11,
   "metadata": {},
   "outputs": [],
   "source": [
    "model = LogisticRegression()\n",
    "x_train,x_test,y_train,y_test = train_test_split(x,y,test_size=0.3,random_state=42)\n",
    "\n",
    "sfs1=sfs(model,k_features=9,forward=True,scoring='r2',cv=3)\n",
    "sfs1=sfs1.fit(x_train,y_train)"
   ]
  },
  {
   "cell_type": "code",
   "execution_count": 12,
   "metadata": {},
   "outputs": [
    {
     "data": {
      "image/png": "[encoded data removed]",
      "text/plain": [
       "<Figure size 432x288 with 1 Axes>"
      ]
     },
     "metadata": {
      "needs_background": "light"
     },
     "output_type": "display_data"
    }
   ],
   "source": [
    "fig=plot_sfs(sfs1.get_metric_dict())          #in forward it shows which are true in graph\n",
    "plt.title('forward selection')\n",
    "plt.grid()"
   ]
  },
  {
   "cell_type": "code",
   "execution_count": 13,
   "metadata": {},
   "outputs": [
    {
     "data": {
      "text/plain": [
       "('A', 'C', 'Y1', 'Y3', 'Y8', 'Z1', 'Z4', 'Z5', 'Z6')"
      ]
     },
     "execution_count": 13,
     "metadata": {},
     "output_type": "execute_result"
    }
   ],
   "source": [
    "sfs1.k_feature_names_"
   ]
  },
  {
   "cell_type": "markdown",
   "metadata": {},
   "source": [
    "#### we can see even forward selection (sequential feature selection) perform very poor .\n",
    "\n",
    "### DIMENTIONALITY REDUCTION USING PCA"
   ]
  },
  {
   "cell_type": "code",
   "execution_count": 14,
   "metadata": {},
   "outputs": [],
   "source": [
    "from sklearn.preprocessing import StandardScaler\n",
    "from sklearn.decomposition import PCA"
   ]
  },
  {
   "cell_type": "markdown",
   "metadata": {},
   "source": [
    "## Step 1: Normalize the data\n",
    "\n",
    "- First step is to normalize the data that we have so that PCA works properly.\n",
    "- This is done by subtracting the respective means from the numbers in the respective column.\n",
    "- So if we have two dimensions X and Y, all X become 𝔁- and all Y become 𝒚-. This produces a dataset whose mean is zero."
   ]
  },
  {
   "cell_type": "code",
   "execution_count": 15,
   "metadata": {},
   "outputs": [],
   "source": [
    "X_std = StandardScaler().fit_transform(x)"
   ]
  },
  {
   "cell_type": "markdown",
   "metadata": {},
   "source": [
    "## Step 2: Calculate the covariance matrix"
   ]
  },
  {
   "cell_type": "code",
   "execution_count": 16,
   "metadata": {},
   "outputs": [
    {
     "name": "stdout",
     "output_type": "stream",
     "text": [
      "Covariance Matrix \n",
      "%s [[ 1.00017129 -0.489225   -0.43917033 ...  0.0984491   0.04749056\n",
      "   0.04225471]\n",
      " [-0.489225    1.00017129  0.87439685 ... -0.26537743 -0.06508865\n",
      "  -0.07207115]\n",
      " [-0.43917033  0.87439685  1.00017129 ... -0.30246633 -0.08184475\n",
      "  -0.08488137]\n",
      " ...\n",
      " [ 0.0984491  -0.26537743 -0.30246633 ...  1.00017129  0.7879122\n",
      "   0.75117334]\n",
      " [ 0.04749056 -0.06508865 -0.08184475 ...  0.7879122   1.00017129\n",
      "   0.92762088]\n",
      " [ 0.04225471 -0.07207115 -0.08488137 ...  0.75117334  0.92762088\n",
      "   1.00017129]]\n"
     ]
    }
   ],
   "source": [
    "cov_matrix = np.cov(X_std.T)\n",
    "print('Covariance Matrix \\n%s', cov_matrix)"
   ]
  },
  {
   "cell_type": "markdown",
   "metadata": {},
   "source": [
    "## Step 3: Calculate the eigenvalues and eigenvectors"
   ]
  },
  {
   "cell_type": "code",
   "execution_count": 17,
   "metadata": {},
   "outputs": [],
   "source": [
    "eig_vals, eig_vecs = np.linalg.eig(cov_matrix)"
   ]
  },
  {
   "cell_type": "code",
   "execution_count": 18,
   "metadata": {},
   "outputs": [
    {
     "name": "stdout",
     "output_type": "stream",
     "text": [
      "Eigen Vectors \n",
      "%s [[ 1.13382303e-01+0.00000000e+00j -5.14606009e-02+0.00000000e+00j\n",
      "  -6.89898462e-02+0.00000000e+00j ...  6.87385909e-16-1.05492237e-15j\n",
      "   6.87385909e-16+1.05492237e-15j  0.00000000e+00+0.00000000e+00j]\n",
      " [-2.35312311e-01+0.00000000e+00j  1.12377090e-01+0.00000000e+00j\n",
      "   8.08740888e-02+0.00000000e+00j ...  1.40952606e-14-2.09212078e-14j\n",
      "   1.40952606e-14+2.09212078e-14j  0.00000000e+00+0.00000000e+00j]\n",
      " [-2.30461415e-01+0.00000000e+00j  1.18898701e-02+0.00000000e+00j\n",
      "   1.87151653e-01+0.00000000e+00j ... -1.66980949e-14+2.82166240e-14j\n",
      "  -1.66980949e-14-2.82166240e-14j  0.00000000e+00+0.00000000e+00j]\n",
      " ...\n",
      " [ 2.14433985e-01+0.00000000e+00j  1.65076171e-01+0.00000000e+00j\n",
      "   1.98373252e-01+0.00000000e+00j ... -1.27231507e-15+1.47601723e-15j\n",
      "  -1.27231507e-15-1.47601723e-15j  0.00000000e+00+0.00000000e+00j]\n",
      " [ 1.35325913e-01+0.00000000e+00j  1.31030596e-01+0.00000000e+00j\n",
      "   2.52911617e-01+0.00000000e+00j ... -5.28514404e-15+7.31123228e-15j\n",
      "  -5.28514404e-15-7.31123228e-15j  0.00000000e+00+0.00000000e+00j]\n",
      " [ 1.41745472e-01+0.00000000e+00j  1.28136636e-01+0.00000000e+00j\n",
      "   2.72257869e-01+0.00000000e+00j ...  6.27284769e-15-8.68209497e-15j\n",
      "   6.27284769e-15+8.68209497e-15j  0.00000000e+00+0.00000000e+00j]]\n",
      "\n",
      " Eigen Values \n",
      "%s [ 1.07869272e+01+0.00000000e+00j  9.23566245e+00+0.00000000e+00j\n",
      "  4.82745216e+00+0.00000000e+00j  3.18277939e+00+0.00000000e+00j\n",
      "  1.70292957e+00+0.00000000e+00j  1.54120819e+00+0.00000000e+00j\n",
      "  1.28763742e+00+0.00000000e+00j  9.81510324e-01+0.00000000e+00j\n",
      "  8.87786585e-01+0.00000000e+00j  7.82367197e-01+0.00000000e+00j\n",
      "  6.76506678e-01+0.00000000e+00j  5.88939756e-01+0.00000000e+00j\n",
      "  5.66269205e-01+0.00000000e+00j  4.38523075e-01+0.00000000e+00j\n",
      "  3.92690498e-01+0.00000000e+00j  3.64934824e-01+0.00000000e+00j\n",
      "  3.25753098e-01+0.00000000e+00j  2.75938706e-01+0.00000000e+00j\n",
      "  2.53104088e-01+0.00000000e+00j  1.84436808e-01+0.00000000e+00j\n",
      "  1.28022404e-01+0.00000000e+00j  1.22572716e-01+0.00000000e+00j\n",
      "  9.46646540e-02+0.00000000e+00j  1.00291743e-01+0.00000000e+00j\n",
      "  7.77569543e-02+0.00000000e+00j  5.82322993e-02+0.00000000e+00j\n",
      "  4.02205379e-02+0.00000000e+00j  3.03718892e-02+0.00000000e+00j\n",
      "  2.19109085e-02+0.00000000e+00j  1.87185942e-02+0.00000000e+00j\n",
      "  9.53878563e-03+0.00000000e+00j  7.02569725e-03+0.00000000e+00j\n",
      "  5.79313195e-03+0.00000000e+00j  3.90826205e-03+0.00000000e+00j\n",
      "  3.81101291e-03+0.00000000e+00j  6.54866268e-04+0.00000000e+00j\n",
      "  2.83983471e-09+0.00000000e+00j -1.86752173e-16+0.00000000e+00j\n",
      "  1.00733627e-17+5.70274699e-18j  1.00733627e-17-5.70274699e-18j\n",
      "  0.00000000e+00+0.00000000e+00j]\n"
     ]
    }
   ],
   "source": [
    "print('Eigen Vectors \\n%s', eig_vecs)\n",
    "print('\\n Eigen Values \\n%s', eig_vals)"
   ]
  },
  {
   "cell_type": "code",
   "execution_count": 19,
   "metadata": {},
   "outputs": [],
   "source": [
    "eigen_pairs = [(np.abs(eig_vals[i]), eig_vecs[ :, i]) for i in range(len(eig_vals))]"
   ]
  },
  {
   "cell_type": "code",
   "execution_count": 20,
   "metadata": {},
   "outputs": [
    {
     "name": "stdout",
     "output_type": "stream",
     "text": [
      "Cumulative Variance Explained [ 26.96269946+0.00000000e+00j  50.04790128+0.00000000e+00j\n",
      "  62.11446477+0.00000000e+00j  70.07005052+0.00000000e+00j\n",
      "  74.32664533+0.00000000e+00j  78.17900593+0.00000000e+00j\n",
      "  81.39754818+0.00000000e+00j  83.85090375+0.00000000e+00j\n",
      "  86.06999011+0.00000000e+00j  88.02557312+0.00000000e+00j\n",
      "  89.71655017+0.00000000e+00j  91.1886474 +0.00000000e+00j\n",
      "  92.60407796+0.00000000e+00j  93.7001979 +0.00000000e+00j\n",
      "  94.68175601+0.00000000e+00j  95.59393682+0.00000000e+00j\n",
      "  96.40818009+0.00000000e+00j  97.09790871+0.00000000e+00j\n",
      "  97.73056057+0.00000000e+00j  98.19157362+0.00000000e+00j\n",
      "  98.51157482+0.00000000e+00j  98.81795413+0.00000000e+00j\n",
      "  99.06864054+0.00000000e+00j  99.30526165+0.00000000e+00j\n",
      "  99.49962074+0.00000000e+00j  99.64517656+0.00000000e+00j\n",
      "  99.74571068+0.00000000e+00j  99.8216274 +0.00000000e+00j\n",
      "  99.87639529+0.00000000e+00j  99.92318376+0.00000000e+00j\n",
      "  99.94702664+0.00000000e+00j  99.96458788+0.00000000e+00j\n",
      "  99.97906823+0.00000000e+00j  99.98883721+0.00000000e+00j\n",
      "  99.99836311+0.00000000e+00j  99.99999999+0.00000000e+00j\n",
      " 100.        +0.00000000e+00j 100.        +1.42544258e-17j\n",
      " 100.        +0.00000000e+00j 100.        +0.00000000e+00j\n",
      " 100.        +0.00000000e+00j]\n"
     ]
    }
   ],
   "source": [
    "tot = sum(eig_vals)\n",
    "var_exp = [( i /tot ) * 100 for i in sorted(eig_vals, reverse=True)]\n",
    "cum_var_exp = np.cumsum(var_exp)\n",
    "print(\"Cumulative Variance Explained\", cum_var_exp)"
   ]
  },
  {
   "cell_type": "markdown",
   "metadata": {},
   "source": [
    "### we can see at 16 components we are capturing 95.5% of the data so,further taking 16 features after applying pca"
   ]
  },
  {
   "cell_type": "markdown",
   "metadata": {},
   "source": [
    "### Applying PCA"
   ]
  },
  {
   "cell_type": "code",
   "execution_count": 23,
   "metadata": {},
   "outputs": [],
   "source": [
    "X_train, X_test, y_train, y_test = train_test_split(x, y, test_size = 0.2, random_state = 0)"
   ]
  },
  {
   "cell_type": "code",
   "execution_count": 24,
   "metadata": {},
   "outputs": [],
   "source": [
    "from sklearn.preprocessing import StandardScaler\n",
    "sc = StandardScaler()\n",
    "X_train = sc.fit_transform(X_train)\n",
    "X_test = sc.transform(X_test)"
   ]
  },
  {
   "cell_type": "code",
   "execution_count": 25,
   "metadata": {},
   "outputs": [],
   "source": [
    "from sklearn.decomposition import PCA\n",
    "pca = PCA(16)\n",
    "X_train_2 = pca.fit_transform(X_train)\n",
    "X_test_2 = pca.transform(X_test)"
   ]
  },
  {
   "cell_type": "code",
   "execution_count": 26,
   "metadata": {},
   "outputs": [
    {
     "data": {
      "text/plain": [
       "array([0.27932354, 0.22946302, 0.1269896 , 0.07712056, 0.04676104,\n",
       "       0.032831  , 0.02434242, 0.02301201, 0.02220123, 0.01926934,\n",
       "       0.01664303, 0.01463371, 0.01252935, 0.01097625, 0.00976616,\n",
       "       0.00937306])"
      ]
     },
     "execution_count": 26,
     "metadata": {},
     "output_type": "execute_result"
    }
   ],
   "source": [
    "# variability explained by each variable\n",
    "explained_variance = pca.explained_variance_ratio_  \n",
    "explained_variance"
   ]
  },
  {
   "cell_type": "code",
   "execution_count": 27,
   "metadata": {},
   "outputs": [
    {
     "data": {
      "text/plain": [
       "array([[ 1.13382303e-01+0.j, -5.14606009e-02+0.j, -6.89898462e-02+0.j,\n",
       "         1.85301937e-01+0.j,  1.59904755e-01+0.j,  8.18145425e-02+0.j,\n",
       "         3.27882276e-01+0.j, -1.21406601e-01+0.j,  1.71430476e-01+0.j,\n",
       "         6.67402005e-01+0.j,  1.55409981e-01+0.j, -1.51662080e-02+0.j,\n",
       "         1.70741766e-01+0.j, -1.25841306e-01+0.j, -2.85909523e-01+0.j,\n",
       "        -2.73554560e-01+0.j],\n",
       "       [-2.35312311e-01+0.j,  1.12377090e-01+0.j,  8.08740888e-02+0.j,\n",
       "        -2.45694106e-01+0.j, -3.33505700e-02+0.j, -1.47267313e-02+0.j,\n",
       "         3.76843760e-02+0.j, -3.15802294e-04+0.j, -9.68977018e-02+0.j,\n",
       "         4.40498060e-02+0.j, -1.46660323e-02+0.j,  1.16112122e-02+0.j,\n",
       "         1.04144640e-02+0.j,  9.13593605e-02+0.j, -2.34520336e-02+0.j,\n",
       "        -3.22168599e-02+0.j],\n",
       "       [-2.30461415e-01+0.j,  1.18898701e-02+0.j,  1.87151653e-01+0.j,\n",
       "        -2.30208738e-01+0.j, -9.22491153e-02+0.j, -1.65502907e-02+0.j,\n",
       "         8.28224074e-02+0.j,  2.85763650e-03+0.j, -5.76866777e-02+0.j,\n",
       "         9.76097852e-02+0.j, -1.57267671e-01+0.j,  6.26251066e-02+0.j,\n",
       "         3.81493719e-02+0.j, -3.96320760e-03+0.j, -3.46445720e-02+0.j,\n",
       "        -6.58253032e-02+0.j],\n",
       "       [-1.66806448e-01+0.j,  2.34771729e-01+0.j, -4.33697532e-02+0.j,\n",
       "        -1.87461821e-01+0.j, -1.61352424e-02+0.j, -1.80738971e-02+0.j,\n",
       "        -3.72622379e-03+0.j, -1.26611065e-02+0.j, -9.12592373e-02+0.j,\n",
       "         4.96036972e-02+0.j, -7.91993033e-02+0.j,  1.01684741e-01+0.j,\n",
       "         7.54474091e-02+0.j,  1.20097011e-01+0.j, -3.69870443e-02+0.j,\n",
       "        -3.76778942e-02+0.j],\n",
       "       [ 7.21299112e-03+0.j,  2.65253759e-01+0.j, -2.34129908e-01+0.j,\n",
       "        -7.62296727e-02+0.j,  6.57260285e-02+0.j,  6.35737925e-03+0.j,\n",
       "        -1.11643308e-01+0.j, -1.84608811e-02+0.j, -5.42296613e-02+0.j,\n",
       "        -4.75626275e-02+0.j,  1.45801102e-01+0.j, -1.63723855e-02+0.j,\n",
       "         2.16523999e-02+0.j,  7.57934009e-02+0.j, -2.19299062e-02+0.j,\n",
       "        -1.73760790e-02+0.j],\n",
       "       [ 2.40912748e-01+0.j, -7.73713760e-02+0.j, -8.33039495e-02+0.j,\n",
       "         2.52333180e-01+0.j,  1.31945016e-02+0.j,  5.41100563e-03+0.j,\n",
       "         4.90760159e-02+0.j,  2.15883948e-02+0.j,  1.08114033e-01+0.j,\n",
       "        -2.70721945e-02+0.j, -6.06275745e-02+0.j, -3.59414785e-02+0.j,\n",
       "        -9.87778517e-02+0.j, -5.65639270e-02+0.j,  6.86185179e-02+0.j,\n",
       "         7.29756049e-02+0.j],\n",
       "       [ 1.75090934e-01+0.j, -2.17268286e-01+0.j,  2.02122533e-02+0.j,\n",
       "         1.94912906e-01+0.j,  1.15208333e-02+0.j,  1.68019081e-02+0.j,\n",
       "         8.99321235e-02+0.j,  3.80337936e-02+0.j,  9.75716614e-02+0.j,\n",
       "        -5.39155136e-02+0.j, -6.53514227e-02+0.j, -1.03677926e-01+0.j,\n",
       "        -1.26913345e-01+0.j, -4.47320085e-02+0.j,  2.86189202e-02+0.j,\n",
       "         4.27644163e-02+0.j],\n",
       "       [ 2.10512297e-01+0.j,  5.54290877e-02+0.j, -1.95379310e-01+0.j,\n",
       "         2.45353406e-01+0.j,  9.14403264e-02+0.j,  1.27672844e-02+0.j,\n",
       "        -2.09352824e-02+0.j,  2.07583441e-02+0.j,  7.76861753e-02+0.j,\n",
       "        -8.81575175e-02+0.j,  1.31052218e-01+0.j, -7.37229756e-02+0.j,\n",
       "        -9.17905836e-02+0.j,  2.35202374e-02+0.j,  1.13661743e-01+0.j,\n",
       "         1.35212096e-01+0.j],\n",
       "       [ 1.16823134e-01+0.j,  2.08023518e-01+0.j, -2.42120607e-01+0.j,\n",
       "         9.87898423e-02+0.j,  8.11957608e-02+0.j,  1.90544053e-02+0.j,\n",
       "        -1.00014912e-01+0.j, -1.21660433e-02+0.j,  4.36051505e-02+0.j,\n",
       "        -7.28855503e-02+0.j,  2.34616855e-01+0.j, -6.24725227e-02+0.j,\n",
       "        -4.88990851e-02+0.j, -3.91454907e-02+0.j,  1.01532347e-01+0.j,\n",
       "         7.54008905e-02+0.j],\n",
       "       [-1.21758001e-01+0.j,  2.40953498e-01+0.j, -7.02620203e-02+0.j,\n",
       "        -5.26559272e-02+0.j, -9.69976956e-03+0.j, -2.38352112e-02+0.j,\n",
       "         2.11587972e-01+0.j, -3.80115265e-02+0.j,  2.89216391e-02+0.j,\n",
       "         1.04893726e-01+0.j,  2.49102447e-01+0.j, -2.97863656e-01+0.j,\n",
       "        -2.55837283e-01+0.j, -9.49426768e-02+0.j,  2.34617057e-02+0.j,\n",
       "         5.19287283e-02+0.j],\n",
       "       [-1.65392760e-01+0.j,  2.18962996e-01+0.j, -2.64505973e-02+0.j,\n",
       "        -1.08488358e-01+0.j, -2.06960357e-02+0.j, -2.51744427e-02+0.j,\n",
       "         2.38962527e-01+0.j, -9.72739136e-03+0.j, -4.70982359e-03+0.j,\n",
       "         1.15849894e-01+0.j,  1.50931712e-01+0.j, -2.58566345e-01+0.j,\n",
       "        -2.38156323e-01+0.j, -2.39299402e-02+0.j,  5.74018816e-03+0.j,\n",
       "         5.24405958e-02+0.j],\n",
       "       [-4.93509442e-02+0.j,  2.91761434e-01+0.j, -1.63724067e-01+0.j,\n",
       "         3.55677031e-02+0.j,  3.83886035e-02+0.j, -7.80131912e-03+0.j,\n",
       "         8.41772928e-02+0.j,  1.19134772e-02+0.j,  4.30247238e-02+0.j,\n",
       "         2.05990931e-02+0.j, -9.89628705e-02+0.j,  1.70182229e-02+0.j,\n",
       "        -2.96365526e-02+0.j,  3.58397447e-02+0.j,  2.71569431e-02+0.j,\n",
       "         4.16181919e-02+0.j],\n",
       "       [-4.93507238e-02+0.j,  2.91761491e-01+0.j, -1.63724056e-01+0.j,\n",
       "         3.55676529e-02+0.j,  3.83884424e-02+0.j, -7.80191617e-03+0.j,\n",
       "         8.41774600e-02+0.j,  1.19134973e-02+0.j,  4.30237932e-02+0.j,\n",
       "         2.05981106e-02+0.j, -9.89633610e-02+0.j,  1.70178311e-02+0.j,\n",
       "        -2.96358154e-02+0.j,  3.58371590e-02+0.j,  2.71543599e-02+0.j,\n",
       "         4.16159760e-02+0.j],\n",
       "       [ 3.56367719e-02+0.j,  2.25761067e-01+0.j, -2.48412569e-01+0.j,\n",
       "        -1.23058377e-01+0.j,  7.57657461e-02+0.j,  1.58744527e-02+0.j,\n",
       "        -2.08106496e-01+0.j, -3.75203024e-02+0.j, -8.87641221e-02+0.j,\n",
       "        -8.00386715e-02+0.j,  2.60076357e-01+0.j, -3.53851476e-02+0.j,\n",
       "         5.20119415e-02+0.j,  8.13294394e-02+0.j, -5.96390329e-02+0.j,\n",
       "        -5.36710600e-02+0.j],\n",
       "       [-1.57399096e-01+0.j,  1.44945768e-01+0.j,  1.07476132e-01+0.j,\n",
       "         1.31114499e-01+0.j, -6.27363364e-02+0.j, -5.37596787e-02+0.j,\n",
       "         4.06427685e-01+0.j,  9.14319542e-02+0.j,  2.14177934e-02+0.j,\n",
       "         1.01305299e-01+0.j, -2.94810392e-01+0.j,  6.23752308e-03+0.j,\n",
       "        -1.41389408e-01+0.j,  7.73147435e-02+0.j,  1.73369567e-01+0.j,\n",
       "         1.72104886e-01+0.j],\n",
       "       [ 1.74163075e-01+0.j, -4.12151420e-02+0.j, -1.39205578e-01+0.j,\n",
       "         1.61975907e-01+0.j,  1.02355211e-01+0.j, -1.04535135e-02+0.j,\n",
       "         1.87454945e-01+0.j,  8.25747296e-02+0.j, -3.00089857e-01+0.j,\n",
       "         9.91795233e-03+0.j, -1.67223262e-01+0.j, -1.07531968e-02+0.j,\n",
       "        -8.02167896e-02+0.j,  7.95272428e-01+0.j, -1.51400086e-01+0.j,\n",
       "        -7.67338288e-02+0.j],\n",
       "       [-1.07534576e-01+0.j,  1.26246528e-02+0.j,  1.13164896e-01+0.j,\n",
       "        -8.90089196e-02+0.j, -1.21314175e-01+0.j,  1.45964062e-02+0.j,\n",
       "        -1.13977591e-01+0.j, -8.23523936e-02+0.j,  8.53251311e-01+0.j,\n",
       "        -4.63402291e-02+0.j,  8.23843267e-02+0.j,  1.79902812e-02+0.j,\n",
       "        -5.51894054e-02+0.j,  4.33424712e-01+0.j, -4.12796603e-02+0.j,\n",
       "         3.05695986e-03+0.j],\n",
       "       [ 2.94443531e-02+0.j,  2.48373886e-01+0.j, -2.06256189e-01+0.j,\n",
       "         5.11435642e-02+0.j,  6.48226334e-02+0.j,  7.31571484e-02+0.j,\n",
       "        -3.05513327e-02+0.j,  2.26017186e-02+0.j,  1.47165550e-01+0.j,\n",
       "        -5.31643711e-02+0.j, -3.50357042e-01+0.j,  1.89672711e-01+0.j,\n",
       "         1.60991217e-01+0.j, -1.44998895e-01+0.j, -6.07210103e-02+0.j,\n",
       "        -8.57289711e-02+0.j],\n",
       "       [ 5.02217262e-03+0.j,  2.43743090e-01+0.j, -1.85841609e-01+0.j,\n",
       "         1.19225019e-01+0.j,  6.74192896e-02+0.j,  3.39038259e-02+0.j,\n",
       "        -2.32913569e-02+0.j,  2.52320927e-02+0.j,  1.58431610e-01+0.j,\n",
       "        -2.72840024e-02+0.j, -3.94149047e-01+0.j,  2.15527409e-01+0.j,\n",
       "         1.27595596e-01+0.j, -1.67714244e-01+0.j, -3.47849624e-02+0.j,\n",
       "        -9.00930345e-02+0.j],\n",
       "       [ 1.54542520e-01+0.j, -1.04156368e-01+0.j, -1.29415550e-01+0.j,\n",
       "        -2.54538429e-01+0.j,  1.21764618e-02+0.j, -1.21482920e-02+0.j,\n",
       "         2.21126507e-01+0.j,  1.58266503e-02+0.j,  8.90015761e-02+0.j,\n",
       "        -5.05455701e-03+0.j, -2.18319852e-01+0.j, -7.00729630e-02+0.j,\n",
       "        -1.96779546e-01+0.j, -9.77467281e-02+0.j,  3.83373284e-01+0.j,\n",
       "         2.65487608e-01+0.j],\n",
       "       [ 1.81776921e-01+0.j, -1.15079619e-01+0.j, -1.70362157e-01+0.j,\n",
       "        -3.29822458e-01+0.j,  3.28088431e-02+0.j,  1.34120216e-02+0.j,\n",
       "         1.13826189e-01+0.j,  4.34644945e-03+0.j,  4.15204808e-02+0.j,\n",
       "        -3.68843259e-03+0.j, -9.10933721e-03+0.j,  4.44298649e-02+0.j,\n",
       "         2.03150460e-02+0.j, -1.45162939e-03+0.j, -4.52007841e-02+0.j,\n",
       "        -2.37794803e-02+0.j],\n",
       "       [-1.81776921e-01+0.j,  1.15079619e-01+0.j,  1.70362157e-01+0.j,\n",
       "         3.29822458e-01+0.j, -3.28088431e-02+0.j, -1.34120216e-02+0.j,\n",
       "        -1.13826189e-01+0.j, -4.34644945e-03+0.j, -4.15204808e-02+0.j,\n",
       "         3.68843259e-03+0.j,  9.10933721e-03+0.j, -4.44298649e-02+0.j,\n",
       "        -2.03150460e-02+0.j,  1.45162939e-03+0.j,  4.52007841e-02+0.j,\n",
       "         2.37794803e-02+0.j],\n",
       "       [ 1.81776921e-01+0.j, -1.15079619e-01+0.j, -1.70362157e-01+0.j,\n",
       "        -3.29822458e-01+0.j,  3.28088431e-02+0.j,  1.34120216e-02+0.j,\n",
       "         1.13826189e-01+0.j,  4.34644945e-03+0.j,  4.15204808e-02+0.j,\n",
       "        -3.68843259e-03+0.j, -9.10933721e-03+0.j,  4.44298649e-02+0.j,\n",
       "         2.03150460e-02+0.j, -1.45162939e-03+0.j, -4.52007841e-02+0.j,\n",
       "        -2.37794803e-02+0.j],\n",
       "       [-1.81776921e-01+0.j,  1.15079619e-01+0.j,  1.70362157e-01+0.j,\n",
       "         3.29822458e-01+0.j, -3.28088431e-02+0.j, -1.34120216e-02+0.j,\n",
       "        -1.13826189e-01+0.j, -4.34644945e-03+0.j, -4.15204808e-02+0.j,\n",
       "         3.68843259e-03+0.j,  9.10933721e-03+0.j, -4.44298649e-02+0.j,\n",
       "        -2.03150460e-02+0.j,  1.45162939e-03+0.j,  4.52007841e-02+0.j,\n",
       "         2.37794803e-02+0.j],\n",
       "       [-1.65306341e-02+0.j,  1.06995940e-02+0.j,  3.12364675e-02+0.j,\n",
       "         8.83861397e-02+0.j, -2.93400790e-02+0.j, -7.80353248e-03+0.j,\n",
       "         3.66801803e-01+0.j, -8.12907149e-01+0.j, -5.70136683e-02+0.j,\n",
       "        -3.79847255e-01+0.j,  8.32254859e-02+0.j,  1.63320498e-01+0.j,\n",
       "         1.08411090e-01+0.j,  5.07046257e-04+0.j,  9.39666653e-04+0.j,\n",
       "        -1.19627109e-02+0.j],\n",
       "       [-7.61795197e-02+0.j,  2.58887862e-02+0.j,  6.30842747e-02+0.j,\n",
       "         6.80819639e-02+0.j,  1.85252627e-02+0.j, -1.22099110e-02+0.j,\n",
       "         4.87571048e-01+0.j,  5.41320776e-01+0.j,  9.10523044e-02+0.j,\n",
       "        -4.39170352e-01+0.j,  3.35059065e-01+0.j,  1.88165249e-01+0.j,\n",
       "         2.41414070e-01+0.j, -6.94913440e-02+0.j, -7.41521549e-02+0.j,\n",
       "        -1.14407978e-01+0.j],\n",
       "       [ 2.02886305e-01+0.j,  1.56421637e-01+0.j,  1.75640860e-01+0.j,\n",
       "        -2.33957476e-02+0.j,  1.42746122e-02+0.j,  6.62589820e-03+0.j,\n",
       "        -2.91979032e-05+0.j,  6.47977946e-04+0.j,  2.21798680e-02+0.j,\n",
       "        -2.09963714e-02+0.j, -4.36867659e-02+0.j, -6.79137123e-02+0.j,\n",
       "         4.55094354e-02+0.j, -3.43030986e-02+0.j,  3.46663948e-03+0.j,\n",
       "         4.47367292e-02+0.j],\n",
       "       [ 1.55063102e-01+0.j,  7.61707463e-02+0.j, -1.95768955e-02+0.j,\n",
       "        -3.64847553e-03+0.j, -3.68125165e-01+0.j, -2.15148086e-01+0.j,\n",
       "         1.15362433e-02+0.j,  1.11704776e-02+0.j,  2.52885863e-02+0.j,\n",
       "        -2.71224704e-01+0.j, -2.39061189e-01+0.j, -4.03317292e-01+0.j,\n",
       "        -2.35976810e-01+0.j, -1.52371433e-01+0.j, -4.95057821e-01+0.j,\n",
       "        -2.90414983e-01+0.j],\n",
       "       [-3.35975289e-02+0.j, -2.37291439e-02+0.j, -1.07877781e-01+0.j,\n",
       "         3.84999979e-02+0.j, -3.80547387e-01+0.j,  5.22966640e-01+0.j,\n",
       "         1.00650097e-02+0.j,  3.21574453e-02+0.j, -7.47485985e-02+0.j,\n",
       "         5.20865475e-02+0.j,  8.75360032e-02+0.j,  3.39594263e-01+0.j,\n",
       "        -2.62799764e-01+0.j, -4.96952238e-02+0.j, -4.08165775e-01+0.j,\n",
       "         4.12650093e-01+0.j],\n",
       "       [-1.54965091e-01+0.j, -8.41688601e-02+0.j,  2.16196420e-02+0.j,\n",
       "        -2.06325425e-02+0.j,  4.39374639e-01+0.j,  2.90793942e-01+0.j,\n",
       "        -2.62665264e-02+0.j, -1.49610790e-02+0.j,  3.90581236e-02+0.j,\n",
       "        -1.83635333e-01+0.j, -8.66441040e-02+0.j, -1.63984109e-02+0.j,\n",
       "        -3.96289167e-01+0.j, -7.34936541e-02+0.j, -7.50407493e-02+0.j,\n",
       "        -2.67437867e-01+0.j],\n",
       "       [-1.90337052e-01+0.j, -8.95166192e-02+0.j,  4.49166491e-02+0.j,\n",
       "        -2.64655887e-02+0.j,  4.07487217e-01+0.j,  2.61150562e-01+0.j,\n",
       "        -1.20616924e-02+0.j,  1.57315396e-03+0.j,  1.07497514e-02+0.j,\n",
       "        -1.07355089e-01+0.j, -5.13214111e-02+0.j,  2.05697632e-02+0.j,\n",
       "        -2.54742284e-01+0.j, -3.03542320e-02+0.j, -5.18997246e-02+0.j,\n",
       "        -1.38565693e-01+0.j],\n",
       "       [ 1.51895727e-02+0.j,  8.81410642e-03+0.j,  7.23607895e-02+0.j,\n",
       "        -7.67311820e-03+0.j,  3.22190848e-01+0.j, -6.05508125e-01+0.j,\n",
       "        -4.30788585e-02+0.j, -5.87936193e-03+0.j,  3.57302194e-02+0.j,\n",
       "         4.10608566e-02+0.j,  5.79286472e-02+0.j,  3.67333051e-01+0.j,\n",
       "        -2.81486605e-01+0.j, -7.58636533e-02+0.j, -3.23376347e-01+0.j,\n",
       "         3.27279018e-01+0.j],\n",
       "       [ 2.13192931e-01+0.j,  1.58465931e-01+0.j,  1.92833720e-01+0.j,\n",
       "        -3.74065121e-02+0.j, -4.60158255e-02+0.j,  1.30888499e-01+0.j,\n",
       "         5.97925386e-04+0.j,  4.59191224e-03+0.j, -1.68167169e-02+0.j,\n",
       "         2.68896735e-02+0.j,  3.91031651e-02+0.j,  1.23942998e-01+0.j,\n",
       "        -1.09441055e-01+0.j,  8.95699109e-03+0.j,  9.60028458e-02+0.j,\n",
       "        -1.02807474e-01+0.j],\n",
       "       [-1.97976846e-01+0.j, -1.63843825e-01+0.j, -1.88367125e-01+0.j,\n",
       "         2.97356216e-02+0.j,  1.01997269e-02+0.j, -1.91981616e-01+0.j,\n",
       "        -7.69122497e-03+0.j, -6.10181867e-03+0.j,  2.33951560e-03+0.j,\n",
       "        -3.71978868e-04+0.j, -5.97812379e-04+0.j, -1.97349991e-02+0.j,\n",
       "         2.26632934e-02+0.j, -7.01177988e-03+0.j, -6.74461807e-02+0.j,\n",
       "        -2.68583720e-02+0.j],\n",
       "       [ 2.09820215e-01+0.j,  1.54790395e-01+0.j,  2.10586804e-01+0.j,\n",
       "        -4.98190977e-02+0.j,  1.02933965e-02+0.j, -6.88517089e-02+0.j,\n",
       "        -4.14751696e-03+0.j,  4.59746927e-03+0.j, -1.45001058e-02+0.j,\n",
       "         2.27856119e-02+0.j,  1.40802473e-02+0.j,  8.58459621e-02+0.j,\n",
       "        -2.39042238e-02+0.j, -6.83759068e-03+0.j, -7.85745544e-02+0.j,\n",
       "         2.83599072e-02+0.j],\n",
       "       [ 2.02508603e-01+0.j,  1.37614018e-01+0.j,  1.60063953e-01+0.j,\n",
       "        -2.48556027e-02+0.j, -1.11975883e-01+0.j, -2.40545855e-02+0.j,\n",
       "        -1.48909430e-02+0.j,  8.09749154e-03+0.j, -4.51802021e-02+0.j,\n",
       "         7.22499708e-02+0.j,  1.13394689e-01+0.j,  2.95024361e-01+0.j,\n",
       "        -2.89279102e-01+0.j,  9.01716726e-03+0.j,  2.24319747e-01+0.j,\n",
       "        -3.69729141e-01+0.j],\n",
       "       [ 0.00000000e+00+0.j,  0.00000000e+00+0.j,  0.00000000e+00+0.j,\n",
       "         0.00000000e+00+0.j,  0.00000000e+00+0.j,  0.00000000e+00+0.j,\n",
       "         0.00000000e+00+0.j,  0.00000000e+00+0.j,  0.00000000e+00+0.j,\n",
       "         0.00000000e+00+0.j,  0.00000000e+00+0.j,  0.00000000e+00+0.j,\n",
       "         0.00000000e+00+0.j,  0.00000000e+00+0.j,  0.00000000e+00+0.j,\n",
       "         0.00000000e+00+0.j],\n",
       "       [ 2.12680814e-01+0.j,  1.48563828e-01+0.j,  2.06394912e-01+0.j,\n",
       "        -5.27662947e-02+0.j, -2.15921848e-02+0.j, -6.17312002e-02+0.j,\n",
       "        -8.59221576e-03+0.j,  3.05396432e-03+0.j, -3.15865920e-02+0.j,\n",
       "         3.36378721e-02+0.j,  5.17302054e-02+0.j,  1.52949985e-01+0.j,\n",
       "        -1.23559070e-01+0.j,  1.35962186e-03+0.j,  1.85040371e-02+0.j,\n",
       "        -1.37082465e-01+0.j],\n",
       "       [ 2.14433985e-01+0.j,  1.65076171e-01+0.j,  1.98373252e-01+0.j,\n",
       "        -3.87756392e-02+0.j, -3.44514438e-02+0.j,  1.41231942e-01+0.j,\n",
       "         2.94861870e-03+0.j,  3.38973313e-03+0.j, -1.13475653e-02+0.j,\n",
       "         3.05021643e-03+0.j,  6.62212031e-03+0.j,  2.16503336e-02+0.j,\n",
       "        -2.73617990e-02+0.j,  7.03071634e-03+0.j,  5.24169756e-02+0.j,\n",
       "        -1.22920844e-02+0.j],\n",
       "       [ 1.35325913e-01+0.j,  1.31030596e-01+0.j,  2.52911617e-01+0.j,\n",
       "        -8.18082265e-02+0.j,  2.20216276e-01+0.j,  2.36746035e-01+0.j,\n",
       "         1.83725638e-02+0.j, -7.97999502e-03+0.j,  7.60476270e-03+0.j,\n",
       "        -6.01193617e-02+0.j, -7.25402559e-02+0.j, -2.66826096e-01+0.j,\n",
       "         2.34646630e-01+0.j,  1.86217893e-02+0.j, -1.68315111e-01+0.j,\n",
       "         2.63909353e-01+0.j],\n",
       "       [ 1.41745472e-01+0.j,  1.28136636e-01+0.j,  2.72257869e-01+0.j,\n",
       "        -8.58596737e-02+0.j,  2.89428081e-01+0.j,  3.00492270e-02+0.j,\n",
       "         4.47929862e-03+0.j, -9.93054669e-03+0.j,  3.56819810e-03+0.j,\n",
       "        -4.24265950e-02+0.j, -3.74578528e-02+0.j, -1.58360864e-01+0.j,\n",
       "         1.48050128e-01+0.j,  1.19673141e-02+0.j, -1.83820158e-01+0.j,\n",
       "         2.15309179e-01+0.j]])"
      ]
     },
     "execution_count": 27,
     "metadata": {},
     "output_type": "execute_result"
    }
   ],
   "source": [
    "p_reduce=eig_vecs[:,:16]#last vector dropped due to insignificance\n",
    "p_reduce"
   ]
  },
  {
   "cell_type": "code",
   "execution_count": 28,
   "metadata": {},
   "outputs": [
    {
     "data": {
      "text/plain": [
       "(5839, 16)"
      ]
     },
     "execution_count": 28,
     "metadata": {},
     "output_type": "execute_result"
    }
   ],
   "source": [
    "X_pca=np.dot(x,p_reduce)\n",
    "X_pca.shape"
   ]
  },
  {
   "cell_type": "code",
   "execution_count": 29,
   "metadata": {},
   "outputs": [
    {
     "data": {
      "text/html": [
       "<div>\n",
       "<style scoped>\n",
       "    .dataframe tbody tr th:only-of-type {\n",
       "        vertical-align: middle;\n",
       "    }\n",
       "\n",
       "    .dataframe tbody tr th {\n",
       "        vertical-align: top;\n",
       "    }\n",
       "\n",
       "    .dataframe thead th {\n",
       "        text-align: right;\n",
       "    }\n",
       "</style>\n",
       "<table border=\"1\" class=\"dataframe\">\n",
       "  <thead>\n",
       "    <tr style=\"text-align: right;\">\n",
       "      <th></th>\n",
       "      <th>0</th>\n",
       "      <th>1</th>\n",
       "      <th>2</th>\n",
       "      <th>3</th>\n",
       "      <th>4</th>\n",
       "      <th>5</th>\n",
       "      <th>6</th>\n",
       "      <th>7</th>\n",
       "      <th>8</th>\n",
       "      <th>9</th>\n",
       "      <th>10</th>\n",
       "      <th>11</th>\n",
       "      <th>12</th>\n",
       "      <th>13</th>\n",
       "      <th>14</th>\n",
       "      <th>15</th>\n",
       "    </tr>\n",
       "  </thead>\n",
       "  <tbody>\n",
       "    <tr>\n",
       "      <th>0</th>\n",
       "      <td>(-510.5036080362648+0j)</td>\n",
       "      <td>(623.9675365093136+0j)</td>\n",
       "      <td>(-47.86412652548065+0j)</td>\n",
       "      <td>(-388.30648518177827+0j)</td>\n",
       "      <td>(-38.265357915580736+0j)</td>\n",
       "      <td>(17.67016847625516+0j)</td>\n",
       "      <td>(51.85359568657729+0j)</td>\n",
       "      <td>(17.11705158264278+0j)</td>\n",
       "      <td>(-20.669831678800158+0j)</td>\n",
       "      <td>(107.154101653477+0j)</td>\n",
       "      <td>(-596.2479025985276+0j)</td>\n",
       "      <td>(347.0898070070306+0j)</td>\n",
       "      <td>(239.61130432152746+0j)</td>\n",
       "      <td>(28.094092796460412+0j)</td>\n",
       "      <td>(-116.42717433149139+0j)</td>\n",
       "      <td>(-190.16165284724477+0j)</td>\n",
       "    </tr>\n",
       "    <tr>\n",
       "      <th>1</th>\n",
       "      <td>(-500.8363051542913+0j)</td>\n",
       "      <td>(753.9336905978505+0j)</td>\n",
       "      <td>(-153.68732479664467+0j)</td>\n",
       "      <td>(-353.5415686634778+0j)</td>\n",
       "      <td>(-3.3680338771522136+0j)</td>\n",
       "      <td>(44.99816166675219+0j)</td>\n",
       "      <td>(42.660156483888784+0j)</td>\n",
       "      <td>(28.500004558302+0j)</td>\n",
       "      <td>(53.785236683565394+0j)</td>\n",
       "      <td>(87.79300591451819+0j)</td>\n",
       "      <td>(-773.7709114023339+0j)</td>\n",
       "      <td>(442.89837236026+0j)</td>\n",
       "      <td>(308.61497160532406+0j)</td>\n",
       "      <td>(-45.97745886324871+0j)</td>\n",
       "      <td>(-140.87594063931587+0j)</td>\n",
       "      <td>(-231.87350576987114+0j)</td>\n",
       "    </tr>\n",
       "    <tr>\n",
       "      <th>2</th>\n",
       "      <td>(-505.4172767544455+0j)</td>\n",
       "      <td>(688.6636168130588+0j)</td>\n",
       "      <td>(-98.72591407631188+0j)</td>\n",
       "      <td>(-361.3645366958265+0j)</td>\n",
       "      <td>(-21.006656374604166+0j)</td>\n",
       "      <td>(29.838129808333342+0j)</td>\n",
       "      <td>(45.017688550588936+0j)</td>\n",
       "      <td>(22.37305856337711+0j)</td>\n",
       "      <td>(16.082747424464273+0j)</td>\n",
       "      <td>(97.11475872102869+0j)</td>\n",
       "      <td>(-678.6992469815797+0j)</td>\n",
       "      <td>(391.03643261783435+0j)</td>\n",
       "      <td>(270.1971621870191+0j)</td>\n",
       "      <td>(-6.74456257959003+0j)</td>\n",
       "      <td>(-126.02397518333291+0j)</td>\n",
       "      <td>(-208.05794998936145+0j)</td>\n",
       "    </tr>\n",
       "    <tr>\n",
       "      <th>3</th>\n",
       "      <td>(-481.60787511284815+0j)</td>\n",
       "      <td>(556.2564519684543+0j)</td>\n",
       "      <td>(-21.07379825627842+0j)</td>\n",
       "      <td>(-375.73722261446215+0j)</td>\n",
       "      <td>(-43.92694233325182+0j)</td>\n",
       "      <td>(9.8754782497594+0j)</td>\n",
       "      <td>(51.364611951808+0j)</td>\n",
       "      <td>(13.206016223721186+0j)</td>\n",
       "      <td>(-38.78034619703974+0j)</td>\n",
       "      <td>(105.60599671214781+0j)</td>\n",
       "      <td>(-513.6672578129636+0j)</td>\n",
       "      <td>(301.94397690484936+0j)</td>\n",
       "      <td>(207.53698636793638+0j)</td>\n",
       "      <td>(49.95466758146051+0j)</td>\n",
       "      <td>(-102.95615753890014+0j)</td>\n",
       "      <td>(-167.1282661112384+0j)</td>\n",
       "    </tr>\n",
       "    <tr>\n",
       "      <th>4</th>\n",
       "      <td>(-484.21828132305984+0j)</td>\n",
       "      <td>(534.7269119660041+0j)</td>\n",
       "      <td>(-2.519324098199143+0j)</td>\n",
       "      <td>(-381.8184379679582+0j)</td>\n",
       "      <td>(-50.23708612134294+0j)</td>\n",
       "      <td>(4.631162177584004+0j)</td>\n",
       "      <td>(53.491573140931514+0j)</td>\n",
       "      <td>(11.206793227882201+0j)</td>\n",
       "      <td>(-52.39071117553274+0j)</td>\n",
       "      <td>(108.84090566954973+0j)</td>\n",
       "      <td>(-480.6153911925461+0j)</td>\n",
       "      <td>(283.58658619179477+0j)</td>\n",
       "      <td>(193.83222517737886+0j)</td>\n",
       "      <td>(64.37050410105127+0j)</td>\n",
       "      <td>(-97.91099369041608+0j)</td>\n",
       "      <td>(-158.6349744910585+0j)</td>\n",
       "    </tr>\n",
       "  </tbody>\n",
       "</table>\n",
       "</div>"
      ],
      "text/plain": [
       "                         0                       1                         2   \\\n",
       "0   (-510.5036080362648+0j)  (623.9675365093136+0j)   (-47.86412652548065+0j)   \n",
       "1   (-500.8363051542913+0j)  (753.9336905978505+0j)  (-153.68732479664467+0j)   \n",
       "2   (-505.4172767544455+0j)  (688.6636168130588+0j)   (-98.72591407631188+0j)   \n",
       "3  (-481.60787511284815+0j)  (556.2564519684543+0j)   (-21.07379825627842+0j)   \n",
       "4  (-484.21828132305984+0j)  (534.7269119660041+0j)   (-2.519324098199143+0j)   \n",
       "\n",
       "                         3                         4   \\\n",
       "0  (-388.30648518177827+0j)  (-38.265357915580736+0j)   \n",
       "1   (-353.5415686634778+0j)  (-3.3680338771522136+0j)   \n",
       "2   (-361.3645366958265+0j)  (-21.006656374604166+0j)   \n",
       "3  (-375.73722261446215+0j)   (-43.92694233325182+0j)   \n",
       "4   (-381.8184379679582+0j)   (-50.23708612134294+0j)   \n",
       "\n",
       "                        5                        6                        7   \\\n",
       "0   (17.67016847625516+0j)   (51.85359568657729+0j)   (17.11705158264278+0j)   \n",
       "1   (44.99816166675219+0j)  (42.660156483888784+0j)     (28.500004558302+0j)   \n",
       "2  (29.838129808333342+0j)  (45.017688550588936+0j)   (22.37305856337711+0j)   \n",
       "3     (9.8754782497594+0j)     (51.364611951808+0j)  (13.206016223721186+0j)   \n",
       "4   (4.631162177584004+0j)  (53.491573140931514+0j)  (11.206793227882201+0j)   \n",
       "\n",
       "                         8                        9                        10  \\\n",
       "0  (-20.669831678800158+0j)    (107.154101653477+0j)  (-596.2479025985276+0j)   \n",
       "1   (53.785236683565394+0j)   (87.79300591451819+0j)  (-773.7709114023339+0j)   \n",
       "2   (16.082747424464273+0j)   (97.11475872102869+0j)  (-678.6992469815797+0j)   \n",
       "3   (-38.78034619703974+0j)  (105.60599671214781+0j)  (-513.6672578129636+0j)   \n",
       "4   (-52.39071117553274+0j)  (108.84090566954973+0j)  (-480.6153911925461+0j)   \n",
       "\n",
       "                        11                       12                       13  \\\n",
       "0   (347.0898070070306+0j)  (239.61130432152746+0j)  (28.094092796460412+0j)   \n",
       "1     (442.89837236026+0j)  (308.61497160532406+0j)  (-45.97745886324871+0j)   \n",
       "2  (391.03643261783435+0j)   (270.1971621870191+0j)   (-6.74456257959003+0j)   \n",
       "3  (301.94397690484936+0j)  (207.53698636793638+0j)   (49.95466758146051+0j)   \n",
       "4  (283.58658619179477+0j)  (193.83222517737886+0j)   (64.37050410105127+0j)   \n",
       "\n",
       "                         14                        15  \n",
       "0  (-116.42717433149139+0j)  (-190.16165284724477+0j)  \n",
       "1  (-140.87594063931587+0j)  (-231.87350576987114+0j)  \n",
       "2  (-126.02397518333291+0j)  (-208.05794998936145+0j)  \n",
       "3  (-102.95615753890014+0j)   (-167.1282661112384+0j)  \n",
       "4   (-97.91099369041608+0j)   (-158.6349744910585+0j)  "
      ]
     },
     "execution_count": 29,
     "metadata": {},
     "output_type": "execute_result"
    }
   ],
   "source": [
    "X_PCA=pd.DataFrame(X_pca)\n",
    "X_PCA.head()"
   ]
  },
  {
   "cell_type": "markdown",
   "metadata": {},
   "source": [
    "### model building \n",
    "    using k fold crossvalidation and we can check which model performs best as base model and then we can do hyperparameter tuning."
   ]
  },
  {
   "cell_type": "code",
   "execution_count": 30,
   "metadata": {},
   "outputs": [],
   "source": [
    "import warnings\n",
    "from sklearn.exceptions import DataConversionWarning\n",
    "warnings.filterwarnings(action='ignore', category=DataConversionWarning)"
   ]
  },
  {
   "cell_type": "code",
   "execution_count": 31,
   "metadata": {},
   "outputs": [],
   "source": [
    "from sklearn import model_selection\n",
    "from sklearn.neighbors import KNeighborsClassifier\n",
    "from sklearn.tree import DecisionTreeClassifier\n",
    "from sklearn.ensemble import RandomForestClassifier,BaggingClassifier,AdaBoostClassifier,GradientBoostingClassifier"
   ]
  },
  {
   "cell_type": "code",
   "execution_count": 32,
   "metadata": {},
   "outputs": [],
   "source": [
    "LR=LogisticRegression()\n",
    "KNN=KNeighborsClassifier(n_neighbors=9,weights='distance')\n",
    "DT=DecisionTreeClassifier()\n",
    "RF=RandomForestClassifier(n_estimators=10)\n",
    "Bagged=BaggingClassifier(n_estimators=50)\n",
    "AdaBoost=AdaBoostClassifier(n_estimators=50)\n",
    "AB_RF=AdaBoostClassifier(base_estimator=RF,n_estimators=100)\n",
    "GBoost=GradientBoostingClassifier(n_estimators=920)"
   ]
  },
  {
   "cell_type": "code",
   "execution_count": 33,
   "metadata": {},
   "outputs": [],
   "source": [
    "models = []\n",
    "models.append(('MVLR', LR))\n",
    "models.append(('KNNRegressor',KNN))\n",
    "models.append(('DT_Regressor',DT))\n",
    "models.append(('RandomForest',RF))\n",
    "models.append(('BaggedRegressor',Bagged))\n",
    "models.append(('AdaBoostRegressor',AdaBoost))\n",
    "models.append(('AdaBoostRF',AB_RF))\n",
    "models.append(('GradientBoostRegressor',GBoost))"
   ]
  },
  {
   "cell_type": "code",
   "execution_count": 34,
   "metadata": {},
   "outputs": [
    {
     "name": "stdout",
     "output_type": "stream",
     "text": [
      "MVLR: 1.734381 (0.052453)\n",
      "KNNRegressor: 1.623755 (0.063839)\n",
      "DT_Regressor: 1.883047 (0.047509)\n",
      "RandomForest: 1.728133 (0.052940)\n",
      "BaggedRegressor: 1.645285 (0.051850)\n",
      "AdaBoostRegressor: 1.892981 (0.027549)\n",
      "AdaBoostRF: 1.583065 (0.031434)\n",
      "GradientBoostRegressor: 1.689091 (0.050463)\n"
     ]
    },
    {
     "data": {
      "image/png": "[encoded data removed]",
      "text/plain": [
       "<Figure size 432x288 with 1 Axes>"
      ]
     },
     "metadata": {
      "needs_background": "light"
     },
     "output_type": "display_data"
    }
   ],
   "source": [
    "# evaluate each model in turn\n",
    "results = []\n",
    "names = []\n",
    "for name, model in models:\n",
    "    kfold = model_selection.KFold(shuffle=True,n_splits=7,random_state=0)\n",
    "    cv_results = model_selection.cross_val_score(model, X_train_2, y_train,cv=kfold, scoring='neg_mean_squared_error')\n",
    "    results.append(np.sqrt(np.abs(cv_results)))\n",
    "    names.append(name)\n",
    "    print(\"%s: %f (%f)\" % (name, np.mean(np.sqrt(np.abs(cv_results))),np.std(np.sqrt(np.abs(cv_results)),ddof=1)))\n",
    "   # boxplot algorithm comparison\n",
    "fig = plt.figure()\n",
    "fig.suptitle('Algorithm Comparison')\n",
    "ax = fig.add_subplot(111)\n",
    "plt.boxplot(results)\n",
    "ax.set_xticklabels(names)\n",
    "plt.show()"
   ]
  },
  {
   "cell_type": "markdown",
   "metadata": {},
   "source": [
    "### Adaboost classifier with random forest as base estimator gives the less errors lets see the accuracy after appyling model."
   ]
  },
  {
   "cell_type": "markdown",
   "metadata": {},
   "source": [
    "#### logistic regression"
   ]
  },
  {
   "cell_type": "code",
   "execution_count": 36,
   "metadata": {},
   "outputs": [],
   "source": [
    "logreg=LogisticRegression()\n",
    "logreg.fit(X_train_2,y_train)\n",
    "y_pred=logreg.predict(X_test_2)"
   ]
  },
  {
   "cell_type": "markdown",
   "metadata": {},
   "source": [
    "## Model Evaluation\n",
    "\n",
    "## Model accuracy"
   ]
  },
  {
   "cell_type": "code",
   "execution_count": 38,
   "metadata": {},
   "outputs": [
    {
     "data": {
      "text/plain": [
       "0.4178082191780822"
      ]
     },
     "execution_count": 38,
     "metadata": {},
     "output_type": "execute_result"
    }
   ],
   "source": [
    "import sklearn\n",
    "sklearn.metrics.accuracy_score(y_test,y_pred)"
   ]
  },
  {
   "cell_type": "markdown",
   "metadata": {},
   "source": [
    "#### confusion matrix"
   ]
  },
  {
   "cell_type": "code",
   "execution_count": 40,
   "metadata": {},
   "outputs": [
    {
     "data": {
      "text/plain": [
       "array([[ 23,  47, 102,   0,  13,  14],\n",
       "       [ 15,  84, 117,   0,  12,   7],\n",
       "       [  7,  27, 257,   0,   6,  21],\n",
       "       [  2,   1,  10,   0,  29,   7],\n",
       "       [ 14,  22,  89,   0,  67,  29],\n",
       "       [  7,  19,  44,   0,  19,  57]], dtype=int64)"
      ]
     },
     "execution_count": 40,
     "metadata": {},
     "output_type": "execute_result"
    }
   ],
   "source": [
    "from sklearn.metrics import confusion_matrix\n",
    "confusion_matrix(y_test, y_pred, labels=[0,1,2,3,4,5])"
   ]
  },
  {
   "cell_type": "code",
   "execution_count": 41,
   "metadata": {},
   "outputs": [],
   "source": [
    "def plot_confusion_matrix(cm, classes,\n",
    "                          normalize=False,\n",
    "                          title='Confusion matrix',\n",
    "                          cmap=plt.cm.Blues):\n",
    "    \"\"\"\n",
    "    This function prints and plots the confusion matrix.\n",
    "    Normalization can be applied by setting `normalize=True`.\n",
    "    \"\"\"\n",
    "    import itertools\n",
    "    if normalize:\n",
    "        cm = cm.astype('float') / cm.sum(axis=1)[:, np.newaxis]\n",
    "        print(\"Normalized confusion matrix\")\n",
    "    else:\n",
    "        print('Confusion matrix, without normalization')\n",
    "\n",
    "    print(cm)\n",
    "\n",
    "    plt.imshow(cm, interpolation='nearest', cmap=cmap)\n",
    "    plt.title(title)\n",
    "    plt.colorbar()\n",
    "    tick_marks = np.arange(len(classes))\n",
    "    plt.xticks(tick_marks, classes, rotation=45)\n",
    "    plt.yticks(tick_marks, classes)\n",
    "\n",
    "    fmt = '.2f' if normalize else 'd'\n",
    "    thresh = cm.max() / 2.\n",
    "    for i, j in itertools.product(range(cm.shape[0]), range(cm.shape[1])):\n",
    "        plt.text(j, i, format(cm[i, j], fmt),\n",
    "                 horizontalalignment=\"center\",\n",
    "                 color=\"white\" if cm[i, j] > thresh else \"black\")\n",
    "\n",
    "    plt.ylabel('True label')\n",
    "    plt.xlabel('Predicted label')\n",
    "    plt.tight_layout()"
   ]
  },
  {
   "cell_type": "code",
   "execution_count": 42,
   "metadata": {},
   "outputs": [
    {
     "name": "stdout",
     "output_type": "stream",
     "text": [
      "Confusion matrix, without normalization\n",
      "[[ 23  47 102   0  13  14]\n",
      " [ 15  84 117   0  12   7]\n",
      " [  7  27 257   0   6  21]\n",
      " [  2   1  10   0  29   7]\n",
      " [ 14  22  89   0  67  29]\n",
      " [  7  19  44   0  19  57]]\n"
     ]
    },
    {
     "data": {
      "image/png": "[encoded data removed]",
      "text/plain": [
       "<Figure size 432x288 with 2 Axes>"
      ]
     },
     "metadata": {
      "needs_background": "light"
     },
     "output_type": "display_data"
    }
   ],
   "source": [
    "cnf_matrix=confusion_matrix(y_test, y_pred, labels=[0,1,2,3,4,5])\n",
    "np.set_printoptions(precision=2)\n",
    "\n",
    "# Plot \n",
    "plt.figure()\n",
    "plot_confusion_matrix(cnf_matrix, classes=[0,1,2,3,4,5],\n",
    "                      title='Confusion matrix')"
   ]
  },
  {
   "cell_type": "code",
   "execution_count": 43,
   "metadata": {},
   "outputs": [
    {
     "data": {
      "text/html": [
       "<div>\n",
       "<style scoped>\n",
       "    .dataframe tbody tr th:only-of-type {\n",
       "        vertical-align: middle;\n",
       "    }\n",
       "\n",
       "    .dataframe tbody tr th {\n",
       "        vertical-align: top;\n",
       "    }\n",
       "\n",
       "    .dataframe thead th {\n",
       "        text-align: right;\n",
       "    }\n",
       "</style>\n",
       "<table border=\"1\" class=\"dataframe\">\n",
       "  <thead>\n",
       "    <tr style=\"text-align: right;\">\n",
       "      <th></th>\n",
       "      <th>0</th>\n",
       "      <th>1</th>\n",
       "      <th>2</th>\n",
       "      <th>3</th>\n",
       "      <th>4</th>\n",
       "      <th>5</th>\n",
       "    </tr>\n",
       "  </thead>\n",
       "  <tbody>\n",
       "    <tr>\n",
       "      <th>0</th>\n",
       "      <td>0.245781</td>\n",
       "      <td>0.104021</td>\n",
       "      <td>0.376136</td>\n",
       "      <td>0.019402</td>\n",
       "      <td>0.163880</td>\n",
       "      <td>0.090780</td>\n",
       "    </tr>\n",
       "    <tr>\n",
       "      <th>1</th>\n",
       "      <td>0.123301</td>\n",
       "      <td>0.218767</td>\n",
       "      <td>0.446361</td>\n",
       "      <td>0.033080</td>\n",
       "      <td>0.148670</td>\n",
       "      <td>0.029820</td>\n",
       "    </tr>\n",
       "    <tr>\n",
       "      <th>2</th>\n",
       "      <td>0.324259</td>\n",
       "      <td>0.273285</td>\n",
       "      <td>0.187959</td>\n",
       "      <td>0.015185</td>\n",
       "      <td>0.164482</td>\n",
       "      <td>0.034830</td>\n",
       "    </tr>\n",
       "    <tr>\n",
       "      <th>3</th>\n",
       "      <td>0.180424</td>\n",
       "      <td>0.290238</td>\n",
       "      <td>0.220816</td>\n",
       "      <td>0.070781</td>\n",
       "      <td>0.173401</td>\n",
       "      <td>0.064339</td>\n",
       "    </tr>\n",
       "    <tr>\n",
       "      <th>4</th>\n",
       "      <td>0.221256</td>\n",
       "      <td>0.104548</td>\n",
       "      <td>0.349714</td>\n",
       "      <td>0.024625</td>\n",
       "      <td>0.147998</td>\n",
       "      <td>0.151858</td>\n",
       "    </tr>\n",
       "  </tbody>\n",
       "</table>\n",
       "</div>"
      ],
      "text/plain": [
       "          0         1         2         3         4         5\n",
       "0  0.245781  0.104021  0.376136  0.019402  0.163880  0.090780\n",
       "1  0.123301  0.218767  0.446361  0.033080  0.148670  0.029820\n",
       "2  0.324259  0.273285  0.187959  0.015185  0.164482  0.034830\n",
       "3  0.180424  0.290238  0.220816  0.070781  0.173401  0.064339\n",
       "4  0.221256  0.104548  0.349714  0.024625  0.147998  0.151858"
      ]
     },
     "execution_count": 43,
     "metadata": {},
     "output_type": "execute_result"
    }
   ],
   "source": [
    "y_pred_prob=logreg.predict_proba(X_test_2)[:,:]\n",
    "y_pred_prob_df=pd.DataFrame(data=y_pred_prob, columns=[0,1,2,3,4,5])\n",
    "y_pred_prob_df.head()"
   ]
  },
  {
   "cell_type": "markdown",
   "metadata": {},
   "source": [
    "#### Decision Tree"
   ]
  },
  {
   "cell_type": "code",
   "execution_count": 52,
   "metadata": {},
   "outputs": [
    {
     "data": {
      "text/plain": [
       "DecisionTreeClassifier(class_weight=None, criterion='gini', max_depth=3,\n",
       "                       max_features=None, max_leaf_nodes=None,\n",
       "                       min_impurity_decrease=0.0, min_impurity_split=None,\n",
       "                       min_samples_leaf=5, min_samples_split=2,\n",
       "                       min_weight_fraction_leaf=0.0, presort=False,\n",
       "                       random_state=100, splitter='best')"
      ]
     },
     "execution_count": 52,
     "metadata": {},
     "output_type": "execute_result"
    }
   ],
   "source": [
    "from sklearn.tree import DecisionTreeClassifier\n",
    "giniDecisionTree = DecisionTreeClassifier(criterion='gini',random_state = 100,max_depth=3, min_samples_leaf=5)\n",
    "\n",
    "giniDecisionTree.fit(X_train_2, y_train)"
   ]
  },
  {
   "cell_type": "code",
   "execution_count": 53,
   "metadata": {},
   "outputs": [
    {
     "name": "stdout",
     "output_type": "stream",
     "text": [
      "Training accuracy: 0.40847784200385356\n",
      "Test accuracy: 0.3767123287671233\n"
     ]
    }
   ],
   "source": [
    "# predicting X_test\n",
    "y_pred =giniDecisionTree.predict(X_test_2)\n",
    "\n",
    "# checking for model overfit\n",
    "print(\"Training accuracy:\", accuracy_score(y_train,giniDecisionTree.predict(X_train_2)))\n",
    "print(\"Test accuracy:\", accuracy_score(y_test,y_pred))"
   ]
  },
  {
   "cell_type": "markdown",
   "metadata": {},
   "source": [
    "####  Rondom Forest"
   ]
  },
  {
   "cell_type": "code",
   "execution_count": 47,
   "metadata": {},
   "outputs": [
    {
     "data": {
      "text/plain": [
       "RandomForestClassifier(bootstrap=True, class_weight=None, criterion='gini',\n",
       "                       max_depth=None, max_features='auto', max_leaf_nodes=None,\n",
       "                       min_impurity_decrease=0.0, min_impurity_split=None,\n",
       "                       min_samples_leaf=1, min_samples_split=2,\n",
       "                       min_weight_fraction_leaf=0.0, n_estimators=10,\n",
       "                       n_jobs=None, oob_score=False, random_state=42, verbose=0,\n",
       "                       warm_start=False)"
      ]
     },
     "execution_count": 47,
     "metadata": {},
     "output_type": "execute_result"
    }
   ],
   "source": [
    "from sklearn.ensemble import RandomForestClassifier\n",
    "fit_rf = RandomForestClassifier(random_state=42)\n",
    "fit_rf.fit(X_train_2,y_train)"
   ]
  },
  {
   "cell_type": "code",
   "execution_count": 50,
   "metadata": {},
   "outputs": [
    {
     "name": "stdout",
     "output_type": "stream",
     "text": [
      "Training accuracy: 0.9892956540355384\n",
      "Test accuracy: 0.511986301369863\n"
     ]
    }
   ],
   "source": [
    "# predicting X_test\n",
    "y_pred = fit_rf.predict(X_test_2)\n",
    "\n",
    "# checking for model overfit\n",
    "print(\"Training accuracy:\", accuracy_score(y_train,fit_rf.predict(X_train_2)))\n",
    "print(\"Test accuracy:\", accuracy_score(y_test,y_pred))"
   ]
  },
  {
   "cell_type": "markdown",
   "metadata": {},
   "source": [
    "#### AdaBoostClassifier"
   ]
  },
  {
   "cell_type": "code",
   "execution_count": 56,
   "metadata": {},
   "outputs": [
    {
     "name": "stdout",
     "output_type": "stream",
     "text": [
      "              precision    recall  f1-score   support\n",
      "\n",
      "           0       0.47      0.39      0.43       199\n",
      "           1       0.50      0.49      0.49       235\n",
      "           2       0.58      0.83      0.68       318\n",
      "           3       0.64      0.18      0.29        49\n",
      "           4       0.67      0.52      0.58       221\n",
      "           5       0.55      0.50      0.52       146\n",
      "\n",
      "    accuracy                           0.56      1168\n",
      "   macro avg       0.57      0.48      0.50      1168\n",
      "weighted avg       0.56      0.56      0.55      1168\n",
      "\n"
     ]
    }
   ],
   "source": [
    "ada=AdaBoostClassifier(base_estimator=fit_rf).fit(X_train_2,y_train)\n",
    "y_pred=ada.predict(X_test_2)\n",
    "\n",
    "print(classification_report(y_test,y_pred))"
   ]
  },
  {
   "cell_type": "code",
   "execution_count": 57,
   "metadata": {},
   "outputs": [
    {
     "name": "stdout",
     "output_type": "stream",
     "text": [
      "Training accuracy: 0.9997859130807107\n",
      "Test accuracy: 0.5582191780821918\n"
     ]
    }
   ],
   "source": [
    "# predicting X_test\n",
    "y_pred = ada.predict(X_test_2)\n",
    "\n",
    "# checking for model overfit\n",
    "print(\"Training accuracy:\", accuracy_score(y_train,ada.predict(X_train_2)))\n",
    "print(\"Test accuracy:\", accuracy_score(y_test,y_pred))"
   ]
  },
  {
   "cell_type": "code",
   "execution_count": null,
   "metadata": {},
   "outputs": [],
   "source": []
  },
  {
   "cell_type": "markdown",
   "metadata": {},
   "source": [
    "### Imbalance data treatment--SMOTE (over sampling)\n",
    "    - SMOTE stands for Synthetic Minority Over-sampling Technique.\n",
    "    - Unlike Random UnderSampling, SMOTE creates new synthetic points in order to have an equal balance of the classes.\n",
    "    - This is another alternative for solving the \"class imbalance problems\". "
   ]
  },
  {
   "cell_type": "code",
   "execution_count": 73,
   "metadata": {},
   "outputs": [],
   "source": [
    "#APPLYING PCA"
   ]
  },
  {
   "cell_type": "code",
   "execution_count": 60,
   "metadata": {},
   "outputs": [],
   "source": [
    "X_reduced = PCA(n_components=16).fit_transform(x)"
   ]
  },
  {
   "cell_type": "code",
   "execution_count": 59,
   "metadata": {},
   "outputs": [],
   "source": [
    "import imblearn\n",
    "\n",
    "from imblearn.over_sampling import SMOTE"
   ]
  },
  {
   "cell_type": "code",
   "execution_count": 61,
   "metadata": {},
   "outputs": [],
   "source": [
    "sm = SMOTE(random_state=2)\n",
    "X1, y1 = sm.fit_sample(X_reduced, y)"
   ]
  },
  {
   "cell_type": "code",
   "execution_count": 62,
   "metadata": {},
   "outputs": [],
   "source": [
    "X_train2,X_test2,y_train2,y_test2=train_test_split(X1,y1,test_size=0.25,random_state=42)"
   ]
  },
  {
   "cell_type": "markdown",
   "metadata": {},
   "source": [
    "### LogisticRegression"
   ]
  },
  {
   "cell_type": "code",
   "execution_count": 63,
   "metadata": {},
   "outputs": [
    {
     "name": "stdout",
     "output_type": "stream",
     "text": [
      "              precision    recall  f1-score   support\n",
      "\n",
      "           0       0.23      0.09      0.12       440\n",
      "           1       0.34      0.45      0.39       411\n",
      "           2       0.37      0.45      0.41       431\n",
      "           3       0.55      0.62      0.58       422\n",
      "           4       0.39      0.24      0.30       435\n",
      "           5       0.38      0.54      0.45       402\n",
      "\n",
      "    accuracy                           0.39      2541\n",
      "   macro avg       0.38      0.40      0.38      2541\n",
      "weighted avg       0.38      0.39      0.37      2541\n",
      "\n"
     ]
    }
   ],
   "source": [
    "lr_up=LogisticRegression().fit(X_train2,y_train2)\n",
    "y_pred_lr_up=lr_up.predict(X_test2)\n",
    "\n",
    "print(classification_report(y_test2,y_pred_lr_up))"
   ]
  },
  {
   "cell_type": "code",
   "execution_count": 64,
   "metadata": {},
   "outputs": [
    {
     "data": {
      "text/plain": [
       "0.39354584809130266"
      ]
     },
     "execution_count": 64,
     "metadata": {},
     "output_type": "execute_result"
    }
   ],
   "source": [
    "accuracy_score(y_test2,y_pred_lr_up)"
   ]
  },
  {
   "cell_type": "markdown",
   "metadata": {},
   "source": [
    "#### we can see after over sampling the model accuracy gone down using logistic where as before over sampling it got 42% accuracy."
   ]
  },
  {
   "cell_type": "code",
   "execution_count": 65,
   "metadata": {},
   "outputs": [
    {
     "name": "stdout",
     "output_type": "stream",
     "text": [
      "              precision    recall  f1-score   support\n",
      "\n",
      "           0       0.55      0.53      0.54       440\n",
      "           1       0.50      0.55      0.52       411\n",
      "           2       0.50      0.49      0.49       431\n",
      "           3       0.80      0.80      0.80       422\n",
      "           4       0.61      0.56      0.58       435\n",
      "           5       0.64      0.66      0.65       402\n",
      "\n",
      "    accuracy                           0.60      2541\n",
      "   macro avg       0.60      0.60      0.60      2541\n",
      "weighted avg       0.60      0.60      0.60      2541\n",
      "\n"
     ]
    }
   ],
   "source": [
    "dt_up=DecisionTreeClassifier().fit(X_train2,y_train2)\n",
    "y_pred_dt_up=dt_up.predict(X_test2)\n",
    "\n",
    "print(classification_report(y_test2,y_pred_dt_up))"
   ]
  },
  {
   "cell_type": "code",
   "execution_count": 66,
   "metadata": {},
   "outputs": [
    {
     "data": {
      "text/plain": [
       "0.5958284140102322"
      ]
     },
     "execution_count": 66,
     "metadata": {},
     "output_type": "execute_result"
    }
   ],
   "source": [
    "accuracy_score(y_test2,y_pred_dt_up)"
   ]
  },
  {
   "cell_type": "markdown",
   "metadata": {},
   "source": [
    "#### over sampling has increased the accuracy of the decision tree model to 59% from 37%."
   ]
  },
  {
   "cell_type": "code",
   "execution_count": 67,
   "metadata": {},
   "outputs": [
    {
     "name": "stdout",
     "output_type": "stream",
     "text": [
      "              precision    recall  f1-score   support\n",
      "\n",
      "           0       0.59      0.64      0.61       440\n",
      "           1       0.56      0.58      0.57       411\n",
      "           2       0.61      0.57      0.59       431\n",
      "           3       0.86      0.91      0.88       422\n",
      "           4       0.74      0.66      0.70       435\n",
      "           5       0.76      0.76      0.76       402\n",
      "\n",
      "    accuracy                           0.69      2541\n",
      "   macro avg       0.69      0.69      0.69      2541\n",
      "weighted avg       0.69      0.69      0.69      2541\n",
      "\n"
     ]
    }
   ],
   "source": [
    "rf_up=RandomForestClassifier().fit(X_train2,y_train2)\n",
    "y_pred_rf_up=rf_up.predict(X_test2)\n",
    "\n",
    "print(classification_report(y_test2,y_pred_rf_up))"
   ]
  },
  {
   "cell_type": "code",
   "execution_count": 68,
   "metadata": {},
   "outputs": [
    {
     "data": {
      "text/plain": [
       "0.6855568673750492"
      ]
     },
     "execution_count": 68,
     "metadata": {},
     "output_type": "execute_result"
    }
   ],
   "source": [
    "accuracy_score(y_test2,y_pred_rf_up)"
   ]
  },
  {
   "cell_type": "markdown",
   "metadata": {},
   "source": [
    "#### random forest has incresed the acuuracy and also classifying the classes more accurately than decision tree."
   ]
  },
  {
   "cell_type": "code",
   "execution_count": 69,
   "metadata": {},
   "outputs": [
    {
     "name": "stdout",
     "output_type": "stream",
     "text": [
      "              precision    recall  f1-score   support\n",
      "\n",
      "           0       0.55      0.51      0.53       440\n",
      "           1       0.51      0.53      0.52       411\n",
      "           2       0.51      0.48      0.50       431\n",
      "           3       0.82      0.82      0.82       422\n",
      "           4       0.59      0.60      0.59       435\n",
      "           5       0.64      0.68      0.66       402\n",
      "\n",
      "    accuracy                           0.60      2541\n",
      "   macro avg       0.60      0.60      0.60      2541\n",
      "weighted avg       0.60      0.60      0.60      2541\n",
      "\n"
     ]
    }
   ],
   "source": [
    "ada_up_dt=AdaBoostClassifier(base_estimator=dt_up).fit(X_train2,y_train2)\n",
    "y_pred_ada_up_dt=ada_up_dt.predict(X_test2)\n",
    "\n",
    "print(classification_report(y_test2,y_pred_ada_up_dt))"
   ]
  },
  {
   "cell_type": "code",
   "execution_count": 70,
   "metadata": {},
   "outputs": [
    {
     "data": {
      "text/plain": [
       "0.602125147579693"
      ]
     },
     "execution_count": 70,
     "metadata": {},
     "output_type": "execute_result"
    }
   ],
   "source": [
    "accuracy_score(y_test2,y_pred_ada_up_dt)"
   ]
  },
  {
   "cell_type": "markdown",
   "metadata": {},
   "source": [
    "#### using ensemble techniques the accuracy has increased as the algorithm mainly focuses on miss classifiers and learn their patterns of occcurances."
   ]
  },
  {
   "cell_type": "code",
   "execution_count": 71,
   "metadata": {},
   "outputs": [
    {
     "name": "stdout",
     "output_type": "stream",
     "text": [
      "              precision    recall  f1-score   support\n",
      "\n",
      "           0       0.73      0.65      0.69       440\n",
      "           1       0.64      0.65      0.64       411\n",
      "           2       0.64      0.68      0.66       431\n",
      "           3       0.93      0.92      0.92       422\n",
      "           4       0.76      0.73      0.74       435\n",
      "           5       0.76      0.83      0.79       402\n",
      "\n",
      "    accuracy                           0.74      2541\n",
      "   macro avg       0.74      0.74      0.74      2541\n",
      "weighted avg       0.74      0.74      0.74      2541\n",
      "\n"
     ]
    }
   ],
   "source": [
    "ada_up_rf=AdaBoostClassifier(base_estimator=rf_up).fit(X_train2,y_train2)\n",
    "y_pred_ada_up_rf=ada_up_rf.predict(X_test2)\n",
    "\n",
    "print(classification_report(y_test2,y_pred_ada_up_rf))"
   ]
  },
  {
   "cell_type": "code",
   "execution_count": 72,
   "metadata": {},
   "outputs": [
    {
     "data": {
      "text/plain": [
       "0.7406532861078315"
      ]
     },
     "execution_count": 72,
     "metadata": {},
     "output_type": "execute_result"
    }
   ],
   "source": [
    "accuracy_score(y_test2,y_pred_ada_up_rf)"
   ]
  },
  {
   "cell_type": "code",
   "execution_count": null,
   "metadata": {},
   "outputs": [],
   "source": []
  },
  {
   "cell_type": "markdown",
   "metadata": {},
   "source": [
    "#### finally we can say adaboost classifier with random forest as the base esmitaor with over sampling has given the highest accuracy of 74% where as we see our base model gave the accuracy of 39%."
   ]
  },
  {
   "cell_type": "markdown",
   "metadata": {},
   "source": [
    "# Overview of the Approach"
   ]
  },
  {
   "cell_type": "markdown",
   "metadata": {},
   "source": [
    "1) The data set has 42 features and 5839 observations with the target column of 6 classes [0-5]\n",
    "\n",
    "2) the target class was imbalanced so, i compared models with both imabalanced data and then balanced data (SMOTE)\n",
    "\n",
    "3) As there are many features to decide our target column i applied various feature selection techniques\n",
    "    -forward selection\n",
    "    -Recurrsive feature elimination\n",
    "    -using correlation\n",
    "    -statiscal approach can be done but due to high dimensions i skipped it but we can use chisqaure test to know the significance.\n",
    "\n",
    "4) The feature selection techniques doesnt work well as there is heavy loss of information due to which model is unable to predict.\n",
    "\n",
    "5) To over come the dimentionality problem i have used PCA(Principle component analysis) and before applying it we need to scale the data as pca is a distance based method.\n",
    "\n",
    "6) After applying PCA with 16 components i could cover 95% of the data like it was a best technique to capture maximum data with less features.\n",
    "\n",
    "7) I have used k-fold cross validation with various model in it at a time passed the independent and dependant variables and with different performance measuring metrics Adaboost with base estimator gave best results.\n",
    "\n",
    "8) I have performed logistic ,decision tree,random forest, ada boost algorithms in predicting ffrom these adaboost gave highest accuracy of 55% .this is with imbalanced data.\n",
    "\n",
    "9) After doing imbalance treatment using SMOTE (over sampling) most the models performed well .\n",
    "\n",
    "10) highest accuracy with best scores in all metrics is from Adaboost classifierof 74% accuracy and Precision, recall was very high which makes model to learn hidden patterns to define each class."
   ]
  },
  {
   "cell_type": "code",
   "execution_count": null,
   "metadata": {},
   "outputs": [],
   "source": []
  },
  {
   "cell_type": "code",
   "execution_count": null,
   "metadata": {},
   "outputs": [],
   "source": []
  }
 ],
 "metadata": {
  "kernelspec": {
   "display_name": "Python 3",
   "language": "python",
   "name": "python3"
  },
  "language_info": {
   "codemirror_mode": {
    "name": "ipython",
    "version": 3
   },
   "file_extension": ".py",
   "mimetype": "text/x-python",
   "name": "python",
   "nbconvert_exporter": "python",
   "pygments_lexer": "ipython3",
   "version": "3.7.3"
  }
 },
 "nbformat": 4,
 "nbformat_minor": 2
}
